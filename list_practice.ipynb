{
 "cells": [
  {
   "cell_type": "markdown",
   "metadata": {},
   "source": [
    "https://pynative.com/python-data-structure-exercise-for-beginners/"
   ]
  },
  {
   "cell_type": "markdown",
   "metadata": {},
   "source": [
    "Exercise 1: Create a list by picking an odd-index items from the first list and even index items from the second\n",
    "Given two lists, l1 and l2, write a program to create a third list l3 by picking an odd-index element from the list l1 and even index elements from the list l2.\n",
    "\n",
    "Given:\n",
    "l1 = [3, 6, 9, 12, 15, 18, 21]\n",
    "l2 = [4, 8, 12, 16, 20, 24, 28]\n",
    "\n",
    "Expected Output:\n",
    "Element at odd-index positions from l1: [6, 12, 18]\n",
    "Element at even-index positions from l2: [4, 12, 20, 28]\n",
    "l3: [6, 12, 18, 4, 12, 20, 28]"
   ]
  },
  {
   "cell_type": "code",
   "execution_count": 1,
   "metadata": {},
   "outputs": [
    {
     "name": "stdout",
     "output_type": "stream",
     "text": [
      "Element at odd-index positions from l1:[6, 12, 18] \n",
      "Element at even-index positions from l2:[4, 12, 20, 28]\n",
      "l3: [6, 12, 18, 4, 12, 20, 28]\n"
     ]
    }
   ],
   "source": [
    "l1 = [3,6,9,12,15,18,21]\n",
    "l2 = [4,8,12,16,20,24,28]\n",
    "l3 = list\n",
    "\n",
    "#list slicing = list_name[start : end : step]\n",
    "odd_index = l1[1::2]\n",
    "even_index = l2[0::2]\n",
    "\n",
    "l3 = odd_index+even_index\n",
    "\n",
    "print(f\"Element at odd-index positions from l1:{odd_index} \\nElement at even-index positions from l2:{even_index}\")\n",
    "print(f\"l3: {l3}\")"
   ]
  },
  {
   "cell_type": "markdown",
   "metadata": {},
   "source": [
    "Exercise 2: Remove and add item in a list\n",
    "Write a program to remove the item present at index 4 and add it to the 2nd position and at the end of the list.\n",
    "\n",
    "Given:\n",
    "list1 = [34, 54, 67, 89, 11, 43, 94]\n",
    "\n",
    "Expected Output:\n",
    "Removing element from index 4: [34, 54, 67, 89, 43, 94]\n",
    "Adding element at index 2: [34, 54, 11, 67, 89, 43, 94]\n",
    "Adding element at last: [34, 54, 11, 67, 89, 43, 94, 11]"
   ]
  },
  {
   "cell_type": "code",
   "execution_count": 2,
   "metadata": {},
   "outputs": [
    {
     "name": "stdout",
     "output_type": "stream",
     "text": [
      "Removing element from index 4: [34, 54, 67, 89, 43, 94]\n",
      "Adding element at index 2: [34, 54, 11, 67, 89, 43, 94]\n",
      "Adding element at last: [34, 54, 11, 67, 89, 43, 94, 11]\n"
     ]
    }
   ],
   "source": [
    "list1 = [34, 54, 67, 89, 11, 43, 94]\n",
    "\n",
    "#list method pop(): list_name.pop(# of element)\n",
    "element = list1.pop(4)\n",
    "print(f\"Removing element from index 4: {list1}\")\n",
    "\n",
    "#list method insert(): list_name.insert(index #, element)\n",
    "list1.insert(2, element)\n",
    "print(f\"Adding element at index 2: {list1}\")\n",
    "\n",
    "#list method append: list_name.append(element)\n",
    "list1.append(element)\n",
    "print(f\"Adding element at last: {list1}\")"
   ]
  },
  {
   "cell_type": "markdown",
   "metadata": {},
   "source": [
    "Exercise 3: Slice list into 3 equal chunks and reverse each chunk\n",
    "\n",
    "Given:\n",
    "sample_list = [1, 2, 3, 4, 5, 6, 7, 8, 9]\n",
    "\n",
    "Expected Output:\n",
    "Chunk 1: [1, 2, 3]\n",
    "Reverse: [3, 2, 1]\n",
    "\n",
    "Chunk 2: [4, 5, 6]\n",
    "Reverse: [6, 5, 4]\n",
    "\n",
    "Chunk 3: [7, 8, 9]\n",
    "Reverse: [9, 8, 7]"
   ]
  },
  {
   "cell_type": "code",
   "execution_count": 12,
   "metadata": {},
   "outputs": [
    {
     "name": "stdout",
     "output_type": "stream",
     "text": [
      "Chunk 1: [1, 2, 3]\n",
      "Reverse: [3, 2, 1]\n",
      "\n",
      "Chunk 2: [4, 5, 6]\n",
      "Reverse: [6, 5, 4]\n",
      "\n",
      "Chunk 3: [7, 8, 9]\n",
      "Reverse: [9, 8, 7]\n",
      "\n"
     ]
    }
   ],
   "source": [
    "sample_list = [1, 2, 3, 4, 5, 6, 7, 8, 9]\n",
    "\n",
    "#list method slice(): slice(start, stop, step)\n",
    "#list method reversed(): reversed(list_name)\n",
    "chunk_len = int(len(sample_list)/3)\n",
    "\n",
    "num = 0\n",
    "for i in range(3):\n",
    "    chunk = sample_list[slice(num,num+chunk_len)]\n",
    "    print(f\"Chunk {i+1}: {chunk}\\nReverse: {list(reversed(chunk))}\\n\")\n",
    "    num +=chunk_len"
   ]
  },
  {
   "cell_type": "code",
   "execution_count": null,
   "metadata": {},
   "outputs": [],
   "source": []
  }
 ],
 "metadata": {
  "kernelspec": {
   "display_name": "Python 3",
   "language": "python",
   "name": "python3"
  },
  "language_info": {
   "codemirror_mode": {
    "name": "ipython",
    "version": 3
   },
   "file_extension": ".py",
   "mimetype": "text/x-python",
   "name": "python",
   "nbconvert_exporter": "python",
   "pygments_lexer": "ipython3",
   "version": "3.11.5"
  },
  "orig_nbformat": 4
 },
 "nbformat": 4,
 "nbformat_minor": 2
}
